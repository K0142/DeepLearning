{
 "cells": [
  {
   "cell_type": "markdown",
   "id": "1542fac7",
   "metadata": {},
   "source": [
    "<h1>MNIST 데이터셋 분류하기</h1>"
   ]
  },
  {
   "cell_type": "code",
   "execution_count": 71,
   "id": "408d2a93",
   "metadata": {},
   "outputs": [],
   "source": [
    "from tensorflow.keras.models import Sequential\n",
    "from tensorflow.keras.layers import Dense, Dropout, Flatten, Conv2D, MaxPooling2D\n",
    "from tensorflow.keras.datasets import mnist\n",
    "from tensorflow.keras.callbacks import ModelCheckpoint, EarlyStopping\n",
    "from tensorflow.keras.utils import to_categorical\n",
    "\n",
    "import matplotlib.pyplot as plt\n",
    "import numpy as np\n",
    "import sys"
   ]
  },
  {
   "cell_type": "code",
   "execution_count": 72,
   "id": "2a451eaa",
   "metadata": {},
   "outputs": [
    {
     "name": "stdout",
     "output_type": "stream",
     "text": [
      "학습셋 이미지 수: 60000개\n",
      "테스트 셋 이미지 수: 10000개\n"
     ]
    }
   ],
   "source": [
    "(x_train,y_train), (x_test, y_test) = mnist.load_data()\n",
    "\n",
    "print(\"학습셋 이미지 수: %d개\" % (x_train.shape[0]))\n",
    "print(\"테스트 셋 이미지 수: %d개\" % (x_test.shape[0]))"
   ]
  },
  {
   "cell_type": "markdown",
   "id": "9cc28133",
   "metadata": {},
   "source": [
    "<h2>1. 데이터 전처리</h2>"
   ]
  },
  {
   "cell_type": "markdown",
   "id": "c20d3232",
   "metadata": {},
   "source": [
    "<h4>1.1 이미지 확인하기</h4>"
   ]
  },
  {
   "cell_type": "code",
   "execution_count": 50,
   "id": "370223c0",
   "metadata": {},
   "outputs": [
    {
     "data": {
      "image/png": "[encoded data removed]",
      "text/plain": [
       "<Figure size 640x480 with 1 Axes>"
      ]
     },
     "metadata": {},
     "output_type": "display_data"
    }
   ],
   "source": [
    "plt.imshow(x_train[0], cmap = 'Greys')\n",
    "plt.show()"
   ]
  },
  {
   "cell_type": "code",
   "execution_count": 51,
   "id": "d94bcd2a",
   "metadata": {
    "scrolled": true
   },
   "outputs": [
    {
     "name": "stdout",
     "output_type": "stream",
     "text": [
      "0  0  0  0  0  0  0  0  0  0  0  0  0  0  0  0  0  0  0  0  0  0  0  0  0  0  0  0  \n",
      "0  0  0  0  0  0  0  0  0  0  0  0  0  0  0  0  0  0  0  0  0  0  0  0  0  0  0  0  \n",
      "0  0  0  0  0  0  0  0  0  0  0  0  0  0  0  0  0  0  0  0  0  0  0  0  0  0  0  0  \n",
      "0  0  0  0  0  0  0  0  0  0  0  0  0  0  0  0  0  0  0  0  0  0  0  0  0  0  0  0  \n",
      "0  0  0  0  0  0  0  0  0  0  0  0  0  0  0  0  0  0  0  0  0  0  0  0  0  0  0  0  \n",
      "0  0  0  0  0  0  0  0  0  0  0  0  3  18 18 18 12613617526 1662552471270  0  0  0  \n",
      "0  0  0  0  0  0  0  0  30 36 94 15417025325325325325322517225324219564 0  0  0  0  \n",
      "0  0  0  0  0  0  0  49 23825325325325325325325325325193 82 82 56 39 0  0  0  0  0  \n",
      "0  0  0  0  0  0  0  18 2192532532532532531981822472410  0  0  0  0  0  0  0  0  0  \n",
      "0  0  0  0  0  0  0  0  80 15610725325320511 0  43 1540  0  0  0  0  0  0  0  0  0  \n",
      "0  0  0  0  0  0  0  0  0  14 1  15425390 0  0  0  0  0  0  0  0  0  0  0  0  0  0  \n",
      "0  0  0  0  0  0  0  0  0  0  0  1392531902  0  0  0  0  0  0  0  0  0  0  0  0  0  \n",
      "0  0  0  0  0  0  0  0  0  0  0  11 19025370 0  0  0  0  0  0  0  0  0  0  0  0  0  \n",
      "0  0  0  0  0  0  0  0  0  0  0  0  35 2412251601081  0  0  0  0  0  0  0  0  0  0  \n",
      "0  0  0  0  0  0  0  0  0  0  0  0  0  81 24025325311925 0  0  0  0  0  0  0  0  0  \n",
      "0  0  0  0  0  0  0  0  0  0  0  0  0  0  45 18625325315027 0  0  0  0  0  0  0  0  \n",
      "0  0  0  0  0  0  0  0  0  0  0  0  0  0  0  16 93 2522531870  0  0  0  0  0  0  0  \n",
      "0  0  0  0  0  0  0  0  0  0  0  0  0  0  0  0  0  24925324964 0  0  0  0  0  0  0  \n",
      "0  0  0  0  0  0  0  0  0  0  0  0  0  0  46 1301832532532072  0  0  0  0  0  0  0  \n",
      "0  0  0  0  0  0  0  0  0  0  0  0  39 1482292532532532501820  0  0  0  0  0  0  0  \n",
      "0  0  0  0  0  0  0  0  0  0  24 11422125325325325320178 0  0  0  0  0  0  0  0  0  \n",
      "0  0  0  0  0  0  0  0  23 66 21325325325325319881 2  0  0  0  0  0  0  0  0  0  0  \n",
      "0  0  0  0  0  0  18 17121925325325325319580 9  0  0  0  0  0  0  0  0  0  0  0  0  \n",
      "0  0  0  0  55 17222625325325325324413311 0  0  0  0  0  0  0  0  0  0  0  0  0  0  \n",
      "0  0  0  0  13625325325321213513216 0  0  0  0  0  0  0  0  0  0  0  0  0  0  0  0  \n",
      "0  0  0  0  0  0  0  0  0  0  0  0  0  0  0  0  0  0  0  0  0  0  0  0  0  0  0  0  \n",
      "0  0  0  0  0  0  0  0  0  0  0  0  0  0  0  0  0  0  0  0  0  0  0  0  0  0  0  0  \n",
      "0  0  0  0  0  0  0  0  0  0  0  0  0  0  0  0  0  0  0  0  0  0  0  0  0  0  0  0  \n"
     ]
    }
   ],
   "source": [
    "for x in x_train[0]:\n",
    "    for i in x:\n",
    "        sys.stdout.write(\"%-3s\" % i)\n",
    "    sys.stdout.write('\\n')"
   ]
  },
  {
   "cell_type": "markdown",
   "id": "a4fe0a1c",
   "metadata": {},
   "source": [
    "<h4>1.2 이미지의 차원 변환 (2차원 > 1차원)</h4>"
   ]
  },
  {
   "cell_type": "code",
   "execution_count": 63,
   "id": "8c57748f",
   "metadata": {},
   "outputs": [],
   "source": [
    "x_train = x_train.reshape(x_train.shape[0], 784)  # 28x28의 2차원 이미지를 1차원으로 변환\n",
    "x_train = x_train.astype('float64')               # 변환된 값을 실수로 변환\n",
    "x_train = x_train / 255                           # 0~255 사이의 값을 0~1 사이의 값으로 변환\n",
    "\n",
    "x_test = x_test.reshape(x_test.shape[0], 784).astype('float64') / 255"
   ]
  },
  {
   "cell_type": "markdown",
   "id": "4cbe0064",
   "metadata": {},
   "source": [
    "<h4>1.3 클래스 값에 대한 원-핫 인코딩</h4>"
   ]
  },
  {
   "cell_type": "code",
   "execution_count": 64,
   "id": "fbb92389",
   "metadata": {},
   "outputs": [
    {
     "name": "stdout",
     "output_type": "stream",
     "text": [
      "class: 5\n",
      "[0. 0. 0. 0. 0. 1. 0. 0. 0. 0.]\n"
     ]
    }
   ],
   "source": [
    "print(\"class: %d\" % (y_train[0]))\n",
    "y_train = to_categorical(y_train, 10)     # 0~9까지의 숫자이므로 10개\n",
    "y_test = to_categorical(y_test, 10)\n",
    "\n",
    "print(y_train[0])"
   ]
  },
  {
   "cell_type": "markdown",
   "id": "eac5107e",
   "metadata": {},
   "source": [
    "<h2>2. 기본 프레임 생성</h2>"
   ]
  },
  {
   "cell_type": "code",
   "execution_count": 73,
   "id": "ebdba090",
   "metadata": {
    "scrolled": false
   },
   "outputs": [
    {
     "name": "stdout",
     "output_type": "stream",
     "text": [
      "\n",
      "Epoch 1: val_loss improved from inf to 0.19087, saving model to ./model/MNIST_MLP.hdf5\n",
      "\n",
      "Epoch 2: val_loss improved from 0.19087 to 0.14288, saving model to ./model/MNIST_MLP.hdf5\n",
      "\n",
      "Epoch 3: val_loss improved from 0.14288 to 0.11461, saving model to ./model/MNIST_MLP.hdf5\n",
      "\n",
      "Epoch 4: val_loss improved from 0.11461 to 0.09918, saving model to ./model/MNIST_MLP.hdf5\n",
      "\n",
      "Epoch 5: val_loss improved from 0.09918 to 0.09587, saving model to ./model/MNIST_MLP.hdf5\n",
      "\n",
      "Epoch 6: val_loss improved from 0.09587 to 0.08597, saving model to ./model/MNIST_MLP.hdf5\n",
      "\n",
      "Epoch 7: val_loss did not improve from 0.08597\n",
      "\n",
      "Epoch 8: val_loss improved from 0.08597 to 0.08272, saving model to ./model/MNIST_MLP.hdf5\n",
      "\n",
      "Epoch 9: val_loss did not improve from 0.08272\n",
      "\n",
      "Epoch 10: val_loss improved from 0.08272 to 0.07932, saving model to ./model/MNIST_MLP.hdf5\n",
      "\n",
      "Epoch 11: val_loss improved from 0.07932 to 0.07853, saving model to ./model/MNIST_MLP.hdf5\n",
      "\n",
      "Epoch 12: val_loss did not improve from 0.07853\n",
      "\n",
      "Epoch 13: val_loss did not improve from 0.07853\n",
      "\n",
      "Epoch 14: val_loss did not improve from 0.07853\n",
      "\n",
      "Epoch 15: val_loss did not improve from 0.07853\n",
      "\n",
      "Epoch 16: val_loss did not improve from 0.07853\n",
      "\n",
      "Epoch 17: val_loss did not improve from 0.07853\n",
      "\n",
      "Epoch 18: val_loss did not improve from 0.07853\n",
      "\n",
      "Epoch 19: val_loss did not improve from 0.07853\n",
      "\n",
      "Epoch 20: val_loss did not improve from 0.07853\n",
      "\n",
      "Epoch 21: val_loss did not improve from 0.07853\n",
      "313/313 [==============================] - 1s 1ms/step - loss: 0.0673 - accuracy: 0.9817\n",
      "\n",
      " Test Accuracy: 0.9817\n"
     ]
    }
   ],
   "source": [
    "x_train = x_train.reshape(x_train.shape[0], 784).astype('float64') / 255\n",
    "x_test = x_test.reshape(x_test.shape[0], 784).astype('float64') / 255\n",
    "\n",
    "y_train = to_categorical(y_train, 10)\n",
    "y_test = to_categorical(y_test, 10)\n",
    "\n",
    "model = Sequential()\n",
    "model.add(Dense(512, input_dim = 784, activation = 'relu'))\n",
    "model.add(Dense(10, activation = 'softmax'))\n",
    "\n",
    "model.compile(loss = 'categorical_crossentropy', optimizer = 'adam', metrics = ['accuracy'])\n",
    "\n",
    "# 모델 최적화\n",
    "model_path = \"./model/MNIST_MLP.hdf5\"\n",
    "check_pointer = ModelCheckpoint(filepath = model_path, monitor = 'val_loss', verbose = 1, save_best_only = True)\n",
    "early_stopping_callback = EarlyStopping(monitor = 'val_loss', patience = 10)\n",
    "\n",
    "# 모델 실행\n",
    "history = model.fit(x_train, y_train, validation_split = 0.25, epochs = 30, batch_size = 200, verbose = 0,\n",
    "                   callbacks = [early_stopping_callback, check_pointer])\n",
    "\n",
    "print(\"\\n Test Accuracy: %.4f\" % (model.evaluate(x_test, y_test)[1]))"
   ]
  },
  {
   "cell_type": "markdown",
   "id": "76f821a1",
   "metadata": {},
   "source": [
    "<h4>2.1 실행 결과의 시각화</h4>"
   ]
  },
  {
   "cell_type": "code",
   "execution_count": 74,
   "id": "4ae7d8da",
   "metadata": {},
   "outputs": [
    {
     "data": {
      "image/png": "[encoded data removed]",
      "text/plain": [
       "<Figure size 640x480 with 1 Axes>"
      ]
     },
     "metadata": {},
     "output_type": "display_data"
    }
   ],
   "source": [
    "y_val_loss = history.history['val_loss']\n",
    "y_loss = history.history['loss']\n",
    "x_len = np.arange(len(y_loss))\n",
    "\n",
    "plt.plot(x_len, y_val_loss, marker = '.', c = \"red\", label = 'Testset_loss')\n",
    "plt.plot(x_len, y_loss, marker = '.', c = \"blue\", label = 'Trainset_loss')\n",
    "\n",
    "plt.legend(loc = 'upper right')\n",
    "plt.grid()\n",
    "plt.xlabel('epoch')\n",
    "plt.ylabel('loss')\n",
    "plt.show()"
   ]
  },
  {
   "cell_type": "markdown",
   "id": "adfbb9ad",
   "metadata": {},
   "source": [
    "<h2>3. CNN 적용하기</h2>"
   ]
  },
  {
   "cell_type": "markdown",
   "id": "1cc13566",
   "metadata": {},
   "source": [
    "<h4>3.1 데이터 전처리</h4>"
   ]
  },
  {
   "cell_type": "code",
   "execution_count": 59,
   "id": "4b27a4ef",
   "metadata": {},
   "outputs": [],
   "source": [
    "(x_train,y_train), (x_test, y_test) = mnist.load_data()\n",
    "\n",
    "x_train = x_train.reshape(x_train.shape[0], 28, 28, 1).astype('float64') / 255 \n",
    "x_test = x_test.reshape(x_test.shape[0], 28, 28, 1).astype('float64') / 255\n",
    "\n",
    "y_train = to_categorical(y_train, 10)\n",
    "y_test = to_categorical(y_test, 10)"
   ]
  },
  {
   "cell_type": "markdown",
   "id": "a92f65a2",
   "metadata": {},
   "source": [
    "<h4>3.2 모델 구현</h4>"
   ]
  },
  {
   "cell_type": "code",
   "execution_count": 60,
   "id": "1ff86a9a",
   "metadata": {},
   "outputs": [
    {
     "name": "stdout",
     "output_type": "stream",
     "text": [
      "\n",
      "Epoch 1: val_loss improved from inf to 0.07391, saving model to ./model/MNIST_CNN.hdf5\n",
      "\n",
      "Epoch 2: val_loss improved from 0.07391 to 0.05512, saving model to ./model/MNIST_CNN.hdf5\n",
      "\n",
      "Epoch 3: val_loss improved from 0.05512 to 0.04584, saving model to ./model/MNIST_CNN.hdf5\n",
      "\n",
      "Epoch 4: val_loss did not improve from 0.04584\n",
      "\n",
      "Epoch 5: val_loss did not improve from 0.04584\n",
      "\n",
      "Epoch 6: val_loss improved from 0.04584 to 0.04044, saving model to ./model/MNIST_CNN.hdf5\n",
      "\n",
      "Epoch 7: val_loss improved from 0.04044 to 0.04007, saving model to ./model/MNIST_CNN.hdf5\n",
      "\n",
      "Epoch 8: val_loss did not improve from 0.04007\n",
      "\n",
      "Epoch 9: val_loss did not improve from 0.04007\n",
      "\n",
      "Epoch 10: val_loss did not improve from 0.04007\n",
      "\n",
      "Epoch 11: val_loss did not improve from 0.04007\n",
      "\n",
      "Epoch 12: val_loss did not improve from 0.04007\n",
      "\n",
      "Epoch 13: val_loss did not improve from 0.04007\n",
      "\n",
      "Epoch 14: val_loss did not improve from 0.04007\n",
      "\n",
      "Epoch 15: val_loss did not improve from 0.04007\n",
      "\n",
      "Epoch 16: val_loss did not improve from 0.04007\n",
      "\n",
      "Epoch 17: val_loss did not improve from 0.04007\n",
      "313/313 [==============================] - 2s 7ms/step - loss: 0.0333 - accuracy: 0.9933\n",
      "\n",
      " Test Accuracy: 0.9933\n"
     ]
    }
   ],
   "source": [
    "model = Sequential()\n",
    "model.add(Conv2D(32, kernel_size = (3, 3), input_shape = (28, 28, 1), activation = 'relu'))\n",
    "model.add(Conv2D(64, (3, 3), activation = 'relu'))\n",
    "model.add(MaxPooling2D(pool_size = (2, 2)))\n",
    "model.add(Dropout(0.25))\n",
    "model.add(Flatten())\n",
    "model.add(Dense(128, activation = 'relu'))\n",
    "model.add(Dropout(0.25))\n",
    "model.add(Dense(10, activation = 'softmax'))\n",
    "\n",
    "model.compile(loss = 'categorical_crossentropy', optimizer = 'adam', metrics = ['accuracy'])\n",
    "\n",
    "model_path = \"./model/MNIST_CNN.hdf5\"\n",
    "check_pointer = ModelCheckpoint(filepath = model_path, monitor = 'val_loss', verbose = 1, save_best_only = True)\n",
    "early_stopping_callback = EarlyStopping(monitor = 'val_loss', patience = 10)\n",
    "\n",
    "model.fit(x_train, y_train, validation_split = 0.25, epochs = 30, batch_size = 200, verbose = 0, \n",
    "          callbacks = [early_stopping_callback, check_pointer])\n",
    "\n",
    "print(\"\\n Test Accuracy: %.4f\" % (model.evaluate(x_test, y_test)[1]))"
   ]
  },
  {
   "cell_type": "markdown",
   "id": "0c8ad714",
   "metadata": {},
   "source": [
    "<h4>3.3 시각화</h4>"
   ]
  },
  {
   "cell_type": "code",
   "execution_count": 36,
   "id": "0f5e9f17",
   "metadata": {},
   "outputs": [
    {
     "data": {
      "image/png": "[encoded data removed]",
      "text/plain": [
       "<Figure size 640x480 with 1 Axes>"
      ]
     },
     "metadata": {},
     "output_type": "display_data"
    }
   ],
   "source": [
    "y_val_loss = history.history['val_loss']\n",
    "y_loss = history.history['loss']\n",
    "x_len = np.arange(len(y_loss))\n",
    "\n",
    "plt.plot(x_len, y_val_loss, marker = '.', c = 'red', label = \"Testset_loss\")\n",
    "plt.plot(x_len, y_loss, marker = '.', c = 'blue', label = \"Trainset_loss\")\n",
    "\n",
    "plt.legend(\"upper right\")\n",
    "plt.grid()\n",
    "plt.xlabel(\"epoch\")\n",
    "plt.ylabel(\"loss\")\n",
    "plt.show()"
   ]
  }
 ],
 "metadata": {
  "kernelspec": {
   "display_name": "Python 3 (ipykernel)",
   "language": "python",
   "name": "python3"
  },
  "language_info": {
   "codemirror_mode": {
    "name": "ipython",
    "version": 3
   },
   "file_extension": ".py",
   "mimetype": "text/x-python",
   "name": "python",
   "nbconvert_exporter": "python",
   "pygments_lexer": "ipython3",
   "version": "3.8.13"
  }
 },
 "nbformat": 4,
 "nbformat_minor": 5
}

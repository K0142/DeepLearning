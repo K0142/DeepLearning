{
 "cells": [
  {
   "cell_type": "markdown",
   "id": "17181401",
   "metadata": {},
   "source": [
    "<h1> 1. 피마 인디언의 당뇨병 예측하기 </h1>"
   ]
  },
  {
   "cell_type": "code",
   "execution_count": 1,
   "id": "b1bf78b6",
   "metadata": {},
   "outputs": [],
   "source": [
    "from tensorflow.keras.models import Sequential\n",
    "from tensorflow.keras.layers import Dense\n",
    "\n",
    "import pandas as pd\n",
    "import matplotlib.pyplot as plt\n",
    "import seaborn as sns"
   ]
  },
  {
   "cell_type": "code",
   "execution_count": 2,
   "id": "9998a679",
   "metadata": {},
   "outputs": [],
   "source": [
    "df = pd.read_csv('./pima-indians-data.csv')"
   ]
  },
  {
   "cell_type": "markdown",
   "id": "97a6878b",
   "metadata": {},
   "source": [
    "<h2> 1.1 데이터 시각화하기 </h2>"
   ]
  },
  {
   "cell_type": "code",
   "execution_count": null,
   "id": "cd8e3e96",
   "metadata": {},
   "outputs": [],
   "source": [
    "df.head(5)    # 데이터의 첫 다섯 줄 불러오기"
   ]
  },
  {
   "cell_type": "code",
   "execution_count": null,
   "id": "7d194d00",
   "metadata": {},
   "outputs": [],
   "source": [
    "df[\"diabetes\"].value_counts()     # 컬럼의 값이 몇 개인지 확인하기"
   ]
  },
  {
   "cell_type": "code",
   "execution_count": null,
   "id": "5a2f7a7e",
   "metadata": {},
   "outputs": [],
   "source": [
    "df.describe()     # 상세 정보 불러오기"
   ]
  },
  {
   "cell_type": "code",
   "execution_count": null,
   "id": "1efe468f",
   "metadata": {},
   "outputs": [],
   "source": [
    "df.corr()     # 항목의 상관관계 불러오기"
   ]
  },
  {
   "cell_type": "code",
   "execution_count": null,
   "id": "79e4cf43",
   "metadata": {},
   "outputs": [],
   "source": [
    "colormap = plt.cm.gist_heat        # 그래프의 색상 구성 정하기\n",
    "plt.figure(figsize = (12, 12))     # 그래프의 크기 설정하기\n",
    "\n",
    "sns.heatmap(df.corr(), linewidths = 0.1, vmax = 0.5, cmap = colormap, linecolor = 'white', annot = True)\n",
    "plt.show()"
   ]
  },
  {
   "cell_type": "code",
   "execution_count": null,
   "id": "3e4a000f",
   "metadata": {},
   "outputs": [],
   "source": [
    "<h3> - plasma를 기준으로 정상과 당뇨 여부 분포 확인하기 </h3>"
   ]
  },
  {
   "cell_type": "code",
   "execution_count": null,
   "id": "a7d6c006",
   "metadata": {},
   "outputs": [],
   "source": [
    "plt.hist(x = [df.plasma[df.diabetes == 0], df.plasma[df.diabetes == 1]], bins = 30, histtype = 'barstacked', \n",
    "        label = ['normal', 'diabetes'])\n",
    "plt.legend()"
   ]
  },
  {
   "cell_type": "code",
   "execution_count": null,
   "id": "304c1256",
   "metadata": {},
   "outputs": [],
   "source": [
    "<h3> - BMI를 기준으로 정상과 당뇨 여부 분포 확인하기 </h3>"
   ]
  },
  {
   "cell_type": "code",
   "execution_count": null,
   "id": "8cfd3d69",
   "metadata": {},
   "outputs": [],
   "source": []
  },
  {
   "cell_type": "code",
   "execution_count": null,
   "id": "9717f295",
   "metadata": {},
   "outputs": [],
   "source": []
  },
  {
   "cell_type": "code",
   "execution_count": 5,
   "id": "db212d70",
   "metadata": {},
   "outputs": [
    {
     "name": "stdout",
     "output_type": "stream",
     "text": [
      "Model: \"sequential_1\"\n",
      "_________________________________________________________________\n",
      " Layer (type)                Output Shape              Param #   \n",
      "=================================================================\n",
      " Dense_1 (Dense)             (None, 12)                108       \n",
      "                                                                 \n",
      " Dense_2 (Dense)             (None, 8)                 104       \n",
      "                                                                 \n",
      " Dense_3 (Dense)             (None, 1)                 9         \n",
      "                                                                 \n",
      "=================================================================\n",
      "Total params: 221\n",
      "Trainable params: 221\n",
      "Non-trainable params: 0\n",
      "_________________________________________________________________\n"
     ]
    }
   ],
   "source": [
    "x = df.iloc[:,0:8]     # df.iloc() - 행\n",
    "y = df.iloc[:,8]\n",
    "\n",
    "model = Sequential()\n",
    "\n",
    "model.add(Dense(12, input_dim = 8, activation = 'relu', name = 'Dense_1'))\n",
    "model.add(Dense(8, activation = 'relu', name = 'Dense_2'))\n",
    "model.add(Dense(1, activation = 'sigmoid', name = 'Dense_3'))\n",
    "\n",
    "model.summary()     # 층과 층의 연결을 시각화"
   ]
  },
  {
   "cell_type": "code",
   "execution_count": 7,
   "id": "17c9f170",
   "metadata": {},
   "outputs": [
    {
     "name": "stdout",
     "output_type": "stream",
     "text": [
      "Epoch 1/100\n",
      "154/154 [==============================] - 1s 991us/step - loss: 2.0046 - accuracy: 0.5885\n",
      "Epoch 2/100\n",
      "154/154 [==============================] - 0s 997us/step - loss: 1.0271 - accuracy: 0.5742\n",
      "Epoch 3/100\n",
      "154/154 [==============================] - 0s 1ms/step - loss: 0.8375 - accuracy: 0.6146\n",
      "Epoch 4/100\n",
      "154/154 [==============================] - 0s 983us/step - loss: 0.7836 - accuracy: 0.6432\n",
      "Epoch 5/100\n",
      "154/154 [==============================] - 0s 950us/step - loss: 0.7627 - accuracy: 0.6419\n",
      "Epoch 6/100\n",
      "154/154 [==============================] - 0s 933us/step - loss: 0.7451 - accuracy: 0.6628\n",
      "Epoch 7/100\n",
      "154/154 [==============================] - 0s 958us/step - loss: 0.7141 - accuracy: 0.6497\n",
      "Epoch 8/100\n",
      "154/154 [==============================] - 0s 981us/step - loss: 0.6532 - accuracy: 0.6667\n",
      "Epoch 9/100\n",
      "154/154 [==============================] - 0s 1ms/step - loss: 0.6476 - accuracy: 0.6810\n",
      "Epoch 10/100\n",
      "154/154 [==============================] - 0s 965us/step - loss: 0.6459 - accuracy: 0.6732\n",
      "Epoch 11/100\n",
      "154/154 [==============================] - 0s 937us/step - loss: 0.6797 - accuracy: 0.6549\n",
      "Epoch 12/100\n",
      "154/154 [==============================] - 0s 950us/step - loss: 0.6598 - accuracy: 0.6862\n",
      "Epoch 13/100\n",
      "154/154 [==============================] - 0s 952us/step - loss: 0.7112 - accuracy: 0.6758\n",
      "Epoch 14/100\n",
      "154/154 [==============================] - 0s 941us/step - loss: 0.6476 - accuracy: 0.6667\n",
      "Epoch 15/100\n",
      "154/154 [==============================] - 0s 944us/step - loss: 0.6217 - accuracy: 0.6771\n",
      "Epoch 16/100\n",
      "154/154 [==============================] - 0s 952us/step - loss: 0.6778 - accuracy: 0.6667\n",
      "Epoch 17/100\n",
      "154/154 [==============================] - 0s 985us/step - loss: 0.7255 - accuracy: 0.6341\n",
      "Epoch 18/100\n",
      "154/154 [==============================] - 0s 958us/step - loss: 0.6202 - accuracy: 0.6888\n",
      "Epoch 19/100\n",
      "154/154 [==============================] - 0s 966us/step - loss: 0.6197 - accuracy: 0.6901\n",
      "Epoch 20/100\n",
      "154/154 [==============================] - 0s 964us/step - loss: 0.6310 - accuracy: 0.6849\n",
      "Epoch 21/100\n",
      "154/154 [==============================] - 0s 1ms/step - loss: 0.6111 - accuracy: 0.7057\n",
      "Epoch 22/100\n",
      "154/154 [==============================] - 0s 1ms/step - loss: 0.6228 - accuracy: 0.6823\n",
      "Epoch 23/100\n",
      "154/154 [==============================] - 0s 1ms/step - loss: 0.6119 - accuracy: 0.6797\n",
      "Epoch 24/100\n",
      "154/154 [==============================] - 0s 1ms/step - loss: 0.6054 - accuracy: 0.7057\n",
      "Epoch 25/100\n",
      "154/154 [==============================] - 0s 1ms/step - loss: 0.6422 - accuracy: 0.7057\n",
      "Epoch 26/100\n",
      "154/154 [==============================] - 0s 1ms/step - loss: 0.6021 - accuracy: 0.6940\n",
      "Epoch 27/100\n",
      "154/154 [==============================] - 0s 1ms/step - loss: 0.6293 - accuracy: 0.6992\n",
      "Epoch 28/100\n",
      "154/154 [==============================] - 0s 984us/step - loss: 0.6428 - accuracy: 0.6862\n",
      "Epoch 29/100\n",
      "154/154 [==============================] - 0s 998us/step - loss: 0.5955 - accuracy: 0.6901\n",
      "Epoch 30/100\n",
      "154/154 [==============================] - 0s 1ms/step - loss: 0.6074 - accuracy: 0.6979\n",
      "Epoch 31/100\n",
      "154/154 [==============================] - 0s 992us/step - loss: 0.6123 - accuracy: 0.6953\n",
      "Epoch 32/100\n",
      "154/154 [==============================] - 0s 1ms/step - loss: 0.6009 - accuracy: 0.7083\n",
      "Epoch 33/100\n",
      "154/154 [==============================] - 0s 1ms/step - loss: 0.5774 - accuracy: 0.7174\n",
      "Epoch 34/100\n",
      "154/154 [==============================] - 0s 1ms/step - loss: 0.5742 - accuracy: 0.7096\n",
      "Epoch 35/100\n",
      "154/154 [==============================] - 0s 1ms/step - loss: 0.5983 - accuracy: 0.6953\n",
      "Epoch 36/100\n",
      "154/154 [==============================] - 0s 1ms/step - loss: 0.6317 - accuracy: 0.6901\n",
      "Epoch 37/100\n",
      "154/154 [==============================] - 0s 1ms/step - loss: 0.5886 - accuracy: 0.7135\n",
      "Epoch 38/100\n",
      "154/154 [==============================] - 0s 1ms/step - loss: 0.6156 - accuracy: 0.6849\n",
      "Epoch 39/100\n",
      "154/154 [==============================] - 0s 976us/step - loss: 0.5785 - accuracy: 0.7201\n",
      "Epoch 40/100\n",
      "154/154 [==============================] - 0s 995us/step - loss: 0.5694 - accuracy: 0.7188\n",
      "Epoch 41/100\n",
      "154/154 [==============================] - 0s 1ms/step - loss: 0.6314 - accuracy: 0.6927\n",
      "Epoch 42/100\n",
      "154/154 [==============================] - 0s 1ms/step - loss: 0.5925 - accuracy: 0.7135\n",
      "Epoch 43/100\n",
      "154/154 [==============================] - 0s 1ms/step - loss: 0.5814 - accuracy: 0.7214\n",
      "Epoch 44/100\n",
      "154/154 [==============================] - 0s 1ms/step - loss: 0.5924 - accuracy: 0.7279\n",
      "Epoch 45/100\n",
      "154/154 [==============================] - 0s 1ms/step - loss: 0.5629 - accuracy: 0.7279\n",
      "Epoch 46/100\n",
      "154/154 [==============================] - 0s 1ms/step - loss: 0.6004 - accuracy: 0.7161\n",
      "Epoch 47/100\n",
      "154/154 [==============================] - 0s 983us/step - loss: 0.5708 - accuracy: 0.7135\n",
      "Epoch 48/100\n",
      "154/154 [==============================] - 0s 991us/step - loss: 0.5599 - accuracy: 0.7188\n",
      "Epoch 49/100\n",
      "154/154 [==============================] - 0s 980us/step - loss: 0.5646 - accuracy: 0.7227\n",
      "Epoch 50/100\n",
      "154/154 [==============================] - 0s 1ms/step - loss: 0.5553 - accuracy: 0.7253\n",
      "Epoch 51/100\n",
      "154/154 [==============================] - 0s 1ms/step - loss: 0.6089 - accuracy: 0.7070\n",
      "Epoch 52/100\n",
      "154/154 [==============================] - 0s 1ms/step - loss: 0.5426 - accuracy: 0.7500\n",
      "Epoch 53/100\n",
      "154/154 [==============================] - 0s 984us/step - loss: 0.6018 - accuracy: 0.7148\n",
      "Epoch 54/100\n",
      "154/154 [==============================] - 0s 977us/step - loss: 0.5500 - accuracy: 0.7370\n",
      "Epoch 55/100\n",
      "154/154 [==============================] - 0s 1ms/step - loss: 0.5361 - accuracy: 0.7331\n",
      "Epoch 56/100\n",
      "154/154 [==============================] - 0s 1ms/step - loss: 0.5627 - accuracy: 0.7240\n",
      "Epoch 57/100\n",
      "154/154 [==============================] - 0s 997us/step - loss: 0.5635 - accuracy: 0.7174\n",
      "Epoch 58/100\n",
      "154/154 [==============================] - 0s 971us/step - loss: 0.5770 - accuracy: 0.7161\n",
      "Epoch 59/100\n",
      "154/154 [==============================] - 0s 955us/step - loss: 0.6127 - accuracy: 0.7174\n",
      "Epoch 60/100\n",
      "154/154 [==============================] - 0s 970us/step - loss: 0.5568 - accuracy: 0.7305\n",
      "Epoch 61/100\n",
      "154/154 [==============================] - 0s 958us/step - loss: 0.5532 - accuracy: 0.7409\n",
      "Epoch 62/100\n",
      "154/154 [==============================] - 0s 1ms/step - loss: 0.5883 - accuracy: 0.7031\n",
      "Epoch 63/100\n",
      "154/154 [==============================] - 0s 1ms/step - loss: 0.5491 - accuracy: 0.7266\n",
      "Epoch 64/100\n",
      "154/154 [==============================] - 0s 985us/step - loss: 0.5407 - accuracy: 0.7292\n",
      "Epoch 65/100\n",
      "154/154 [==============================] - 0s 951us/step - loss: 0.5437 - accuracy: 0.7370\n",
      "Epoch 66/100\n",
      "154/154 [==============================] - 0s 1ms/step - loss: 0.6002 - accuracy: 0.7240\n",
      "Epoch 67/100\n",
      "154/154 [==============================] - 0s 1ms/step - loss: 0.5635 - accuracy: 0.7383\n",
      "Epoch 68/100\n",
      "154/154 [==============================] - 0s 1ms/step - loss: 0.5388 - accuracy: 0.7279\n",
      "Epoch 69/100\n",
      "154/154 [==============================] - 0s 1ms/step - loss: 0.5710 - accuracy: 0.7227\n",
      "Epoch 70/100\n",
      "154/154 [==============================] - 0s 1ms/step - loss: 0.5228 - accuracy: 0.7487\n",
      "Epoch 71/100\n",
      "154/154 [==============================] - 0s 1ms/step - loss: 0.5643 - accuracy: 0.7044\n",
      "Epoch 72/100\n",
      "154/154 [==============================] - 0s 1ms/step - loss: 0.5320 - accuracy: 0.7383\n",
      "Epoch 73/100\n",
      "154/154 [==============================] - 0s 1ms/step - loss: 0.5233 - accuracy: 0.7357\n",
      "Epoch 74/100\n",
      "154/154 [==============================] - 0s 1ms/step - loss: 0.5316 - accuracy: 0.7500\n",
      "Epoch 75/100\n",
      "154/154 [==============================] - 0s 1ms/step - loss: 0.5288 - accuracy: 0.7604\n",
      "Epoch 76/100\n",
      "154/154 [==============================] - 0s 1ms/step - loss: 0.5297 - accuracy: 0.7396\n",
      "Epoch 77/100\n",
      "154/154 [==============================] - 0s 1ms/step - loss: 0.5485 - accuracy: 0.7357\n",
      "Epoch 78/100\n",
      "154/154 [==============================] - 0s 1ms/step - loss: 0.5347 - accuracy: 0.7370\n",
      "Epoch 79/100\n",
      "154/154 [==============================] - 0s 1ms/step - loss: 0.5214 - accuracy: 0.7422\n",
      "Epoch 80/100\n",
      "154/154 [==============================] - 0s 1ms/step - loss: 0.5311 - accuracy: 0.7435\n",
      "Epoch 81/100\n",
      "154/154 [==============================] - 0s 964us/step - loss: 0.5271 - accuracy: 0.7344\n",
      "Epoch 82/100\n",
      "154/154 [==============================] - 0s 952us/step - loss: 0.5083 - accuracy: 0.7578\n",
      "Epoch 83/100\n",
      "154/154 [==============================] - 0s 958us/step - loss: 0.5215 - accuracy: 0.7539\n",
      "Epoch 84/100\n",
      "154/154 [==============================] - 0s 953us/step - loss: 0.5157 - accuracy: 0.7487\n",
      "Epoch 85/100\n",
      "154/154 [==============================] - 0s 961us/step - loss: 0.5028 - accuracy: 0.7500\n",
      "Epoch 86/100\n",
      "154/154 [==============================] - 0s 1ms/step - loss: 0.5128 - accuracy: 0.7448\n",
      "Epoch 87/100\n",
      "154/154 [==============================] - 0s 994us/step - loss: 0.5248 - accuracy: 0.7344\n",
      "Epoch 88/100\n",
      "154/154 [==============================] - 0s 929us/step - loss: 0.5114 - accuracy: 0.7487\n",
      "Epoch 89/100\n",
      "154/154 [==============================] - 0s 939us/step - loss: 0.5197 - accuracy: 0.7552\n",
      "Epoch 90/100\n",
      "154/154 [==============================] - 0s 1ms/step - loss: 0.5021 - accuracy: 0.7669\n",
      "Epoch 91/100\n",
      "154/154 [==============================] - 0s 1ms/step - loss: 0.5356 - accuracy: 0.7617\n",
      "Epoch 92/100\n",
      "154/154 [==============================] - 0s 1ms/step - loss: 0.5160 - accuracy: 0.7448\n",
      "Epoch 93/100\n",
      "154/154 [==============================] - 0s 1ms/step - loss: 0.4986 - accuracy: 0.7656\n",
      "Epoch 94/100\n",
      "154/154 [==============================] - 0s 1ms/step - loss: 0.5063 - accuracy: 0.7526\n",
      "Epoch 95/100\n",
      "154/154 [==============================] - 0s 1ms/step - loss: 0.5081 - accuracy: 0.7682\n",
      "Epoch 96/100\n",
      "154/154 [==============================] - 0s 995us/step - loss: 0.5402 - accuracy: 0.7396\n",
      "Epoch 97/100\n",
      "154/154 [==============================] - 0s 1ms/step - loss: 0.5032 - accuracy: 0.7435\n",
      "Epoch 98/100\n",
      "154/154 [==============================] - 0s 974us/step - loss: 0.4982 - accuracy: 0.7539\n",
      "Epoch 99/100\n",
      "154/154 [==============================] - 0s 990us/step - loss: 0.5254 - accuracy: 0.7422\n",
      "Epoch 100/100\n",
      "154/154 [==============================] - 0s 1ms/step - loss: 0.5126 - accuracy: 0.7526\n"
     ]
    }
   ],
   "source": [
    "model.compile(loss = 'binary_crossentropy', optimizer = 'adam', metrics = ['accuracy'])\n",
    "history = model.fit(x, y, epochs = 100, batch_size = 5)"
   ]
  }
 ],
 "metadata": {
  "kernelspec": {
   "display_name": "Python 3 (ipykernel)",
   "language": "python",
   "name": "python3"
  },
  "language_info": {
   "codemirror_mode": {
    "name": "ipython",
    "version": 3
   },
   "file_extension": ".py",
   "mimetype": "text/x-python",
   "name": "python",
   "nbconvert_exporter": "python",
   "pygments_lexer": "ipython3",
   "version": "3.8.13"
  }
 },
 "nbformat": 4,
 "nbformat_minor": 5
}

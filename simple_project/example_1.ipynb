{
 "cells": [
  {
   "cell_type": "markdown",
   "id": "35a74f99",
   "metadata": {},
   "source": [
    "<h1> 폐암 수술 환자의 생존율 예측하기 </h1>"
   ]
  },
  {
   "cell_type": "code",
   "execution_count": 1,
   "id": "cc4042f0",
   "metadata": {},
   "outputs": [],
   "source": [
    "from tensorflow.keras.models import Sequential\n",
    "from tensorflow.keras.layers import Dense\n",
    "\n",
    "import numpy as np"
   ]
  },
  {
   "cell_type": "code",
   "execution_count": 3,
   "id": "888eea54",
   "metadata": {},
   "outputs": [
    {
     "name": "stdout",
     "output_type": "stream",
     "text": [
      "Epoch 1/5\n", 
      "30/30 [==============================] - 0s 1ms/step - loss: 10.4422 - accuracy: 0.1511\n",
      "Epoch 2/5\n",
      "30/30 [==============================] - 0s 1ms/step - loss: 2.2056 - accuracy: 0.3638\n",
      "Epoch 3/5\n",
      "30/30 [==============================] - 0s 1ms/step - loss: 0.5128 - accuracy: 0.8511\n",
      "Epoch 4/5\n",
      "30/30 [==============================] - 0s 1ms/step - loss: 0.4651 - accuracy: 0.8511\n",
      "Epoch 5/5\n",
      "30/30 [==============================] - 0s 1ms/step - loss: 0.4578 - accuracy: 0.8511\n"
     ]
    }
   ],
   "source": [
    "data_set = np.loadtxt(\"./data/thoraric_surgery.csv\", delimiter = \",\")\n",
    "\n",
    "x = data_set[:,0:16]\n",
    "y = data_set[:,16]\n",
    "\n",
    "model = Sequential()\n",
    "\n",
    "# (몇 개의 노드를 생성할 것인지, 입력 데이터의 개수를 몇 개로 할 것인지, 활성화 함수를 무엇으로 할 것인지)\n",
    "model.add(Dense(30, input_dim = 16, activation = 'relu'))   # 은닉층\n",
    "model.add(Dense(1, activation = 'sigmoid'))                 # 출력층\n",
    "\n",
    "# (어떤 오차 함수를 사용할 것인지, 어떤 옵티마이저를 사용할 것인지, 모델의 수행 결과를 나타내게 설정하는 부분)\n",
    "model.compile(loss = 'binary_crossentropy', optimizer = 'adam', metrics = ['accuracy'])\n",
    "\n",
    "# batch_size > 한 번에 몇 개씩 처리할 것인지\n",
    "history = model.fit(x, y, epochs = 5, batch_size = 16)"
   ]
  }
 ],
 "metadata": {
  "kernelspec": {
   "display_name": "Python 3 (ipykernel)",
   "language": "python",
   "name": "python3"
  },
  "language_info": {
   "codemirror_mode": {
    "name": "ipython",
    "version": 3
   },
   "file_extension": ".py",
   "mimetype": "text/x-python",
   "name": "python",
   "nbconvert_exporter": "python",
   "pygments_lexer": "ipython3",
   "version": "3.8.13"
  }
 },
 "nbformat": 4,
 "nbformat_minor": 5
}
